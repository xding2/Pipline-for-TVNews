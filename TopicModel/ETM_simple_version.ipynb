{
 "cells": [
  {
   "cell_type": "markdown",
   "source": [
    "## PIPLINE.3 - Topic Model\n",
    "Here is the pipline for applying `ETM` on the real content. There are two public repo for `ETM` model and both of pulic repos are from this paper: [topic model](https://arxiv.org/abs/1907.04907). Please read this paper at the beginning.\n",
    "\n",
    "Here are two public repo, I suggest using the **first** one, which is already a **encapsulation**, so there is no need to reproduce the source code from original paper:\n",
    "+ https://github.com/lffloyd/embedded-topic-model\n",
    "+ https://github.com/adjidieng/ETM"
   ],
   "metadata": {}
  },
  {
   "cell_type": "code",
   "execution_count": 1,
   "source": [
    "# pip install embedded_topic_model"
   ],
   "outputs": [],
   "metadata": {}
  },
  {
   "cell_type": "markdown",
   "source": [
    "### Read the dataset from your location\n",
    "\n",
    "read the 'content' colunm\n",
    "\n",
    "i.e df['content col name']"
   ],
   "metadata": {}
  },
  {
   "cell_type": "code",
   "execution_count": 2,
   "source": [
    "paremeter = []\n",
    "with open('parameter.txt') as f:\n",
    "    contents = f.read()\n",
    "    paremeter = contents.split(',')"
   ],
   "outputs": [],
   "metadata": {}
  },
  {
   "cell_type": "markdown",
   "source": [
    "### Preprocessing\n",
    "1. lower\n",
    "2. remove punctuation\n",
    "3. **remove stopwords**"
   ],
   "metadata": {}
  },
  {
   "cell_type": "code",
   "execution_count": 3,
   "source": [
    "from embedded_topic_model.utils import embedding, preprocessing\n",
    "import os\n",
    "import pandas as pd\n",
    "from embedded_topic_model.utils import embedding\n",
    "\n",
    "# read and preprocess\n",
    "df = pd.read_csv('name.csv')\n",
    "df['sentence'] = df['sentence'].str.lower()\n",
    "df['sentence'] = df['sentence'].str.replace(r'[^\\w\\s]+', '')\n",
    "df['sentence'] = df['sentence'].str.replace('{','')\n",
    "df['sentence'] = df['sentence'].str.replace('}','')\n",
    "\n",
    "#df['sentence']: do remove stopwords from nltk or other local stopwords\n",
    "\n",
    "\n",
    "\n",
    "\n",
    "\n",
    "\n",
    "\n",
    "# read the col to a list\n",
    "sentences = df['sentence'].values.tolist()\n",
    "\n",
    "#sentences\n",
    "vocabulary, train_dataset, _, = preprocessing.create_etm_datasets(\n",
    "    sentences, \n",
    "    min_df=float(paremeter[0]), \n",
    "    max_df=float(paremeter[1]), \n",
    "    train_size=float(paremeter[2]),  \n",
    ")\n",
    "\n",
    "# Training word2vec embeddings\n",
    "embeddings_mapping = embedding.create_word2vec_embedding_from_dataset(sentences)"
   ],
   "outputs": [],
   "metadata": {}
  },
  {
   "cell_type": "code",
   "execution_count": 4,
   "source": [
    "from embedded_topic_model.models.etm import ETM\n",
    "\n",
    "# Training an ETM instance\n",
    "etm_instance = ETM(\n",
    "    vocabulary,\n",
    "    embeddings=embeddings_mapping,  # You can pass here the path to a word2vec file or\n",
    "                                    # a KeyedVectors instance\n",
    "    num_topics=int(paremeter[3]),\n",
    "    epochs=int(paremeter[4]),\n",
    "    debug_mode=False,\n",
    "    train_embeddings=False\n",
    ")\n",
    "etm_instance.fit(train_dataset)"
   ],
   "outputs": [
    {
     "output_type": "execute_result",
     "data": {
      "text/plain": [
       "<embedded_topic_model.models.etm.ETM at 0x7ff6d016a6a0>"
      ]
     },
     "metadata": {},
     "execution_count": 4
    }
   ],
   "metadata": {}
  },
  {
   "cell_type": "code",
   "execution_count": 7,
   "source": [
    "topics = etm_instance.get_topics(int(paremeter[5]))\n",
    "print('topics word will be:')\n",
    "print(topics)"
   ],
   "outputs": [
    {
     "output_type": "stream",
     "name": "stdout",
     "text": [
      "topics word will be:\n",
      "[['the', 'to', 'and', 'you', 'of']]\n"
     ]
    }
   ],
   "metadata": {}
  }
 ],
 "metadata": {
  "kernelspec": {
   "display_name": "Python 3",
   "language": "python",
   "name": "python3"
  },
  "language_info": {
   "codemirror_mode": {
    "name": "ipython",
    "version": 3
   },
   "file_extension": ".py",
   "mimetype": "text/x-python",
   "name": "python",
   "nbconvert_exporter": "python",
   "pygments_lexer": "ipython3",
   "version": "3.6.9"
  }
 },
 "nbformat": 4,
 "nbformat_minor": 5
}